{
 "cells": [
  {
   "cell_type": "code",
   "execution_count": 5,
   "metadata": {},
   "outputs": [
    {
     "data": {
      "image/png": "[encoded data removed]",
      "text/plain": [
       "<Figure size 432x288 with 1 Axes>"
      ]
     },
     "metadata": {
      "needs_background": "light"
     },
     "output_type": "display_data"
    }
   ],
   "source": [
    "import keras\n",
    "from keras.models import load_model\n",
    "from keras.preprocessing.image import img_to_array, load_img,save_img\n",
    "import matplotlib.pyplot as plt\n",
    "import numpy as np\n",
    "\n",
    "# Set paths\n",
    "imagepath = \"mnist.png\"\n",
    "encoderpath = 'encoder.h5'\n",
    "preprocessedpath = 'preprocessed.png'\n",
    "\n",
    "# load model\n",
    "# Keras might complain that no training configuration is included in the file, \n",
    "# but we don't need to train this model anymore, so this is not necessary.\n",
    "# ---> This warning can be ignored!\n",
    "encoder = load_model(encoderpath)\n",
    "\n",
    "# load image\n",
    "img = load_img(imagepath,target_size=(28,28),color_mode='grayscale')      # this is a PIL image\n",
    "# Save preprocessed image in array with extra channel\n",
    "image = np.zeros((28,28,1))\n",
    "image[:,:,0] = img\n",
    "save_img(preprocessedpath,image)\n",
    "# Show image\n",
    "plt.imshow(img)\n",
    "plt.title(\"Input image\")\n",
    "# convert image to array for keras\n",
    "x = img_to_array(img)          # this is a Numpy array with shape (3, 150, 150)\n",
    "x = x.reshape((1,) + x.shape)  # this is a Numpy array with shape (1, 3, 150, 150)\n",
    "\n",
    "# Compress using the encoder model\n",
    "compressed = encoder.predict(x)\n",
    "\n",
    "#Save array\n",
    "np.save(imagepath,compressed)"
   ]
  },
  {
   "cell_type": "code",
   "execution_count": 7,
   "metadata": {},
   "outputs": [
    {
     "data": {
      "image/png": "[encoded data removed]",
      "text/plain": [
       "<Figure size 432x288 with 1 Axes>"
      ]
     },
     "metadata": {
      "needs_background": "light"
     },
     "output_type": "display_data"
    }
   ],
   "source": [
    "import keras\n",
    "from keras.models import load_model\n",
    "from keras.preprocessing.image import array_to_img,save_img\n",
    "import matplotlib.pyplot as plt\n",
    "import numpy as np\n",
    "\n",
    "# Set paths\n",
    "decoderpath = 'decoder.h5'\n",
    "decompressedpath = 'decompressed.png'\n",
    "compressedpath = 'mnist.png.npy'\n",
    "\n",
    "# load compressed file\n",
    "\n",
    "compressed = np.load(compressedpath)\n",
    "\n",
    "# load model\n",
    "decoder = load_model(decoderpath)\n",
    "\n",
    "# Decompress using the decoder model\n",
    "decompressed = decoder.predict(compressed)\n",
    "\n",
    "# select correct (useful) channels\n",
    "array = decompressed[0,:,:,:] \n",
    "\n",
    "# convert to image\n",
    "image = array_to_img(array)\n",
    "\n",
    "# plot image\n",
    "plt.imshow(image)\n",
    "plt.title(\"Output image\")\n",
    "# Store in array with extra channel\n",
    "image_saver = np.zeros((28,28,1))\n",
    "image_saver[:,:,0] = image\n",
    "# Save decompressed image\n",
    "save_img(decompressedpath,image_saver)"
   ]
  }
 ],
 "metadata": {
  "kernelspec": {
   "display_name": "Python 3",
   "language": "python",
   "name": "python3"
  },
  "language_info": {
   "codemirror_mode": {
    "name": "ipython",
    "version": 3
   },
   "file_extension": ".py",
   "mimetype": "text/x-python",
   "name": "python",
   "nbconvert_exporter": "python",
   "pygments_lexer": "ipython3",
   "version": "3.6.3"
  }
 },
 "nbformat": 4,
 "nbformat_minor": 2
}
