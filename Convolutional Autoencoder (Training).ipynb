{
 "cells": [
  {
   "cell_type": "code",
   "execution_count": 1,
   "metadata": {},
   "outputs": [],
   "source": [
    "%matplotlib inline\n",
    "import os\n",
    "os.environ[\"CUDA_DEVICE_ORDER\"]=\"PCI_BUS_ID\"\n",
    "os.environ[\"CUDA_VISIBLE_DEVICES\"]=\"0\" #model will be trained on GPU 0"
   ]
  },
  {
   "cell_type": "code",
   "execution_count": 2,
   "metadata": {},
   "outputs": [
    {
     "name": "stderr",
     "output_type": "stream",
     "text": [
      "Using TensorFlow backend.\n"
     ]
    }
   ],
   "source": [
    "import keras"
   ]
  },
  {
   "cell_type": "code",
   "execution_count": 3,
   "metadata": {},
   "outputs": [],
   "source": [
    "from keras.layers import Input, Dense, Conv2D, MaxPooling2D, UpSampling2D\n",
    "from keras.models import Model"
   ]
  },
  {
   "cell_type": "code",
   "execution_count": 4,
   "metadata": {},
   "outputs": [],
   "source": [
    "#################\n",
    "# Encoder part: # (WITH MUCHAS THANKS TO https://stackoverflow.com/questions/48603328/how-do-i-split-an-convolutional-autoencoder)\n",
    "#################\n",
    "def encoder():\n",
    "    # This function returns a model object of the encoder\n",
    "    input_img = Input(shape=(28, 28, 1))                               # create an input layer for a 28x28 grayscale image\n",
    "    e1 = Conv2D(16,(3,3),activation='relu', padding='same')(input_img) # create 16 3x3-filters with ReLU and 'same'-padding\n",
    "    e2 = MaxPooling2D((2,2),padding='same')(e1)                        # apply downsampling (max) with 2x2 kernel and 'same'-padding\n",
    "    e3 = Conv2D(8,(3,3),activation='relu', padding ='same')(e2)        # create 8  3x3-filters with ReLU and 'same'-padding\n",
    "    e4 = MaxPooling2D((2,2),padding='same')(e3)                        # apply downampling (max) with 2x2 kernel and 'same'-padding\n",
    "    e5 = Conv2D(8,(3,3),activation='relu', padding='same')(e4)         # create 8  3x3-filters 2with ReLU and 'same'-padding\n",
    "    e6 = MaxPooling2D((2,2),padding='same')(e5)                        # apply downsampling (max) with 2x2 kernel and 'same'-padding\n",
    "    return Model(input_img, e6)\n",
    "#################\n",
    "# Decoder part: # (we apply the same layers but in inverse order (and replace downsampling with upsampling))\n",
    "#################\n",
    "def decoder():\n",
    "    input_img = Input(shape=(4, 4, 8))  # adapt this if using `channels_first` image data format   \n",
    "    d1 = Conv2D(8, (3, 3), activation='relu', padding='same')(input_img)\n",
    "    d2 = UpSampling2D((2, 2))(d1)\n",
    "    d3 = Conv2D(8, (3, 3), activation='relu', padding='same')(d2)\n",
    "    d4 = UpSampling2D((2, 2))(d3)\n",
    "    d5 = Conv2D(16, (3, 3), activation='relu')(d4)\n",
    "    d6 = UpSampling2D((2, 2))(d5)\n",
    "    d7 = Conv2D(1, (3, 3), activation='sigmoid', padding='same')(d6)\n",
    "    return Model(input_img, d7)\n",
    "\n",
    "\n",
    "# define input to the model:\n",
    "x = Input(shape=(28, 28, 1))\n",
    "# make the model:\n",
    "autoencoder = Model(x, decoder()(encoder()(x)))\n",
    "# compile the model:\n",
    "autoencoder.compile(optimizer='adadelta', loss='binary_crossentropy')"
   ]
  },
  {
   "cell_type": "code",
   "execution_count": 5,
   "metadata": {},
   "outputs": [
    {
     "name": "stdout",
     "output_type": "stream",
     "text": [
      "Downloading data from https://s3.amazonaws.com/img-datasets/mnist.npz\n",
      "11493376/11490434 [==============================] - 7s 1us/step\n"
     ]
    }
   ],
   "source": [
    "from keras.datasets import mnist\n",
    "import numpy as np\n",
    "\n",
    "(x_train, _), (x_test, _) = mnist.load_data()\n",
    "\n",
    "x_train = x_train.astype('float32') / 255.\n",
    "x_test = x_test.astype('float32') / 255.\n",
    "x_train = np.reshape(x_train, (len(x_train), 28, 28, 1))  # adapt this if using `channels_first` image data format\n",
    "x_test = np.reshape(x_test, (len(x_test), 28, 28, 1))  # adapt this if using `channels_first` image data format"
   ]
  },
  {
   "cell_type": "code",
   "execution_count": 6,
   "metadata": {},
   "outputs": [
    {
     "name": "stdout",
     "output_type": "stream",
     "text": [
      "Train on 60000 samples, validate on 10000 samples\n",
      "Epoch 1/50\n",
      "60000/60000 [==============================] - 8s 128us/step - loss: 0.2258 - val_loss: 0.1738\n",
      "Epoch 2/50\n",
      "60000/60000 [==============================] - 4s 71us/step - loss: 0.1641 - val_loss: 0.1532\n",
      "Epoch 3/50\n",
      "60000/60000 [==============================] - 4s 72us/step - loss: 0.1489 - val_loss: 0.1436\n",
      "Epoch 4/50\n",
      "60000/60000 [==============================] - 4s 72us/step - loss: 0.1393 - val_loss: 0.1355\n",
      "Epoch 5/50\n",
      "60000/60000 [==============================] - 4s 72us/step - loss: 0.1331 - val_loss: 0.1283\n",
      "Epoch 6/50\n",
      "60000/60000 [==============================] - 4s 72us/step - loss: 0.1290 - val_loss: 0.1251\n",
      "Epoch 7/50\n",
      "60000/60000 [==============================] - 4s 71us/step - loss: 0.1257 - val_loss: 0.1250\n",
      "Epoch 8/50\n",
      "60000/60000 [==============================] - 4s 72us/step - loss: 0.1235 - val_loss: 0.1207\n",
      "Epoch 9/50\n",
      "60000/60000 [==============================] - 4s 72us/step - loss: 0.1218 - val_loss: 0.1230\n",
      "Epoch 10/50\n",
      "60000/60000 [==============================] - 4s 70us/step - loss: 0.1203 - val_loss: 0.1166\n",
      "Epoch 11/50\n",
      "60000/60000 [==============================] - 4s 72us/step - loss: 0.1189 - val_loss: 0.1177\n",
      "Epoch 12/50\n",
      "60000/60000 [==============================] - 4s 71us/step - loss: 0.1173 - val_loss: 0.1155\n",
      "Epoch 13/50\n",
      "60000/60000 [==============================] - 4s 71us/step - loss: 0.1162 - val_loss: 0.1147\n",
      "Epoch 14/50\n",
      "60000/60000 [==============================] - 4s 73us/step - loss: 0.1154 - val_loss: 0.1124\n",
      "Epoch 15/50\n",
      "60000/60000 [==============================] - 4s 71us/step - loss: 0.1143 - val_loss: 0.1163\n",
      "Epoch 16/50\n",
      "60000/60000 [==============================] - 4s 71us/step - loss: 0.1138 - val_loss: 0.1150\n",
      "Epoch 17/50\n",
      "60000/60000 [==============================] - 4s 72us/step - loss: 0.1129 - val_loss: 0.1127\n",
      "Epoch 18/50\n",
      "60000/60000 [==============================] - 4s 72us/step - loss: 0.1121 - val_loss: 0.1102\n",
      "Epoch 19/50\n",
      "60000/60000 [==============================] - 4s 71us/step - loss: 0.1114 - val_loss: 0.1133\n",
      "Epoch 20/50\n",
      "60000/60000 [==============================] - 4s 72us/step - loss: 0.1104 - val_loss: 0.1080\n",
      "Epoch 21/50\n",
      "60000/60000 [==============================] - 4s 71us/step - loss: 0.1099 - val_loss: 0.1092\n",
      "Epoch 22/50\n",
      "60000/60000 [==============================] - 4s 73us/step - loss: 0.1093 - val_loss: 0.1067\n",
      "Epoch 23/50\n",
      "60000/60000 [==============================] - 4s 72us/step - loss: 0.1086 - val_loss: 0.1080\n",
      "Epoch 24/50\n",
      "60000/60000 [==============================] - 4s 75us/step - loss: 0.1080 - val_loss: 0.1066\n",
      "Epoch 25/50\n",
      "60000/60000 [==============================] - 4s 73us/step - loss: 0.1073 - val_loss: 0.1032\n",
      "Epoch 26/50\n",
      "60000/60000 [==============================] - 4s 73us/step - loss: 0.1068 - val_loss: 0.1057\n",
      "Epoch 27/50\n",
      "60000/60000 [==============================] - 4s 74us/step - loss: 0.1066 - val_loss: 0.1036\n",
      "Epoch 28/50\n",
      "60000/60000 [==============================] - 4s 73us/step - loss: 0.1058 - val_loss: 0.1036\n",
      "Epoch 29/50\n",
      "60000/60000 [==============================] - 4s 74us/step - loss: 0.1056 - val_loss: 0.1048\n",
      "Epoch 30/50\n",
      "60000/60000 [==============================] - 4s 74us/step - loss: 0.1051 - val_loss: 0.1025\n",
      "Epoch 31/50\n",
      "60000/60000 [==============================] - 4s 74us/step - loss: 0.1046 - val_loss: 0.1046\n",
      "Epoch 32/50\n",
      "60000/60000 [==============================] - 4s 73us/step - loss: 0.1040 - val_loss: 0.1034\n",
      "Epoch 33/50\n",
      "60000/60000 [==============================] - 5s 75us/step - loss: 0.1040 - val_loss: 0.0997\n",
      "Epoch 34/50\n",
      "60000/60000 [==============================] - 4s 75us/step - loss: 0.1034 - val_loss: 0.1015\n",
      "Epoch 35/50\n",
      "60000/60000 [==============================] - 4s 75us/step - loss: 0.1032 - val_loss: 0.1021\n",
      "Epoch 36/50\n",
      "60000/60000 [==============================] - 4s 74us/step - loss: 0.1030 - val_loss: 0.1010\n",
      "Epoch 37/50\n",
      "60000/60000 [==============================] - 5s 76us/step - loss: 0.1028 - val_loss: 0.1018\n",
      "Epoch 38/50\n",
      "60000/60000 [==============================] - 4s 75us/step - loss: 0.1026 - val_loss: 0.0991\n",
      "Epoch 39/50\n",
      "60000/60000 [==============================] - 5s 75us/step - loss: 0.1025 - val_loss: 0.1022\n",
      "Epoch 40/50\n",
      "60000/60000 [==============================] - 4s 74us/step - loss: 0.1021 - val_loss: 0.1038\n",
      "Epoch 41/50\n",
      "60000/60000 [==============================] - 5s 76us/step - loss: 0.1021 - val_loss: 0.1007\n",
      "Epoch 42/50\n",
      "60000/60000 [==============================] - 5s 75us/step - loss: 0.1021 - val_loss: 0.1025\n",
      "Epoch 43/50\n",
      "60000/60000 [==============================] - 5s 75us/step - loss: 0.1016 - val_loss: 0.1001\n",
      "Epoch 44/50\n",
      "60000/60000 [==============================] - 4s 75us/step - loss: 0.1013 - val_loss: 0.1005\n",
      "Epoch 45/50\n",
      "60000/60000 [==============================] - 4s 75us/step - loss: 0.1012 - val_loss: 0.1002\n",
      "Epoch 46/50\n",
      "60000/60000 [==============================] - 5s 75us/step - loss: 0.1011 - val_loss: 0.0997\n",
      "Epoch 47/50\n",
      "60000/60000 [==============================] - 4s 75us/step - loss: 0.1011 - val_loss: 0.0989\n",
      "Epoch 48/50\n",
      "60000/60000 [==============================] - 5s 76us/step - loss: 0.1008 - val_loss: 0.0984\n",
      "Epoch 49/50\n",
      "60000/60000 [==============================] - 5s 75us/step - loss: 0.1008 - val_loss: 0.0996\n",
      "Epoch 50/50\n",
      "60000/60000 [==============================] - 5s 76us/step - loss: 0.1004 - val_loss: 0.0981\n",
      "Training time = 0:03:43.580216\n"
     ]
    }
   ],
   "source": [
    "import datetime\n",
    "begin = datetime.datetime.now()\n",
    "\n",
    "history = autoencoder.fit(x_train, x_train,\n",
    "                epochs=50,\n",
    "                batch_size=128,\n",
    "                shuffle=True,\n",
    "                validation_data=(x_test, x_test))\n",
    "\n",
    "passed = datetime.datetime.now() - begin\n",
    "print(\"Training time = %s\" % (passed))"
   ]
  },
  {
   "cell_type": "code",
   "execution_count": 7,
   "metadata": {},
   "outputs": [
    {
     "data": {
      "image/png": "[encoded data removed]",
      "text/plain": [
       "<Figure size 1440x288 with 20 Axes>"
      ]
     },
     "metadata": {
      "needs_background": "light"
     },
     "output_type": "display_data"
    }
   ],
   "source": [
    "import matplotlib.pyplot as plt\n",
    "\n",
    "decoded_imgs = autoencoder.predict(x_test)\n",
    "\n",
    "n = 10\n",
    "plt.figure(figsize=(20, 4))\n",
    "for i in range(n):\n",
    "    # display original\n",
    "    ax = plt.subplot(2, n, i+1)\n",
    "    plt.imshow(x_test[i].reshape(28, 28))\n",
    "    plt.gray()\n",
    "    ax.get_xaxis().set_visible(False)\n",
    "    ax.get_yaxis().set_visible(False)\n",
    "\n",
    "    # display reconstruction\n",
    "    ax = plt.subplot(2, n, i + n+1)\n",
    "    plt.imshow(decoded_imgs[i].reshape(28, 28))\n",
    "    plt.gray()\n",
    "    ax.get_xaxis().set_visible(False)\n",
    "    ax.get_yaxis().set_visible(False)\n",
    "plt.show()"
   ]
  },
  {
   "cell_type": "code",
   "execution_count": 8,
   "metadata": {},
   "outputs": [
    {
     "data": {
      "image/png": "[encoded data removed]",
      "text/plain": [
       "<Figure size 432x288 with 1 Axes>"
      ]
     },
     "metadata": {
      "needs_background": "light"
     },
     "output_type": "display_data"
    }
   ],
   "source": [
    "# Plot training and validation loss\n",
    "plt.figure()\n",
    "plt.plot(history.history['loss'])\n",
    "plt.plot(history.history['val_loss'])\n",
    "plt.title('model loss')\n",
    "plt.ylabel('loss')\n",
    "plt.xlabel('epoch')\n",
    "plt.legend(['train', 'test'], loc='upper left')\n",
    "plt.show()"
   ]
  },
  {
   "cell_type": "code",
   "execution_count": 9,
   "metadata": {},
   "outputs": [],
   "source": [
    "# Export models for the encoder and decoder\n",
    "decoder().save('decoder.h5')\n",
    "encoder().save('encoder.h5')"
   ]
  },
  {
   "cell_type": "code",
   "execution_count": null,
   "metadata": {},
   "outputs": [],
   "source": []
  }
 ],
 "metadata": {
  "kernelspec": {
   "display_name": "Python 3",
   "language": "python",
   "name": "python3"
  },
  "language_info": {
   "codemirror_mode": {
    "name": "ipython",
    "version": 3
   },
   "file_extension": ".py",
   "mimetype": "text/x-python",
   "name": "python",
   "nbconvert_exporter": "python",
   "pygments_lexer": "ipython3",
   "version": "3.6.3"
  }
 },
 "nbformat": 4,
 "nbformat_minor": 2
}
